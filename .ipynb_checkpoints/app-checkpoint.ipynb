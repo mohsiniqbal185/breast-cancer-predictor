{
 "cells": [
  {
   "cell_type": "code",
   "execution_count": null,
   "id": "8db974d4",
   "metadata": {},
   "outputs": [],
   "source": [
    "#imports\n",
    "from flask import Flask, request,render_template # Import flask libraries\n",
    "import numpy as np\n",
    "import pickle"
   ]
  },
  {
   "cell_type": "code",
   "execution_count": 2,
   "id": "8f6befb3",
   "metadata": {},
   "outputs": [],
   "source": [
    "app=Flask(__name__) #starting flask app"
   ]
  },
  {
   "cell_type": "code",
   "execution_count": 3,
   "id": "06437b8d",
   "metadata": {},
   "outputs": [],
   "source": [
    "@app.route('/')\n",
    "def home():\n",
    "    return render_template('index.html')\n"
   ]
  },
  {
   "cell_type": "code",
   "execution_count": 4,
   "id": "43caaad0",
   "metadata": {},
   "outputs": [],
   "source": [
    "@app.route('/predict_1',methods=['GET', 'POST'])\n",
    "def predict_1():\n",
    "    if request.method == \"POST\":\n",
    "        model=pickle.load(open('model1.pkl','rb'))      \n",
    "        to_predict_list = [int(x) for x in request.form.values()]\n",
    "        to_predict_list = [np.array(to_predict_list)]\n",
    "        y_pred = model.predict(to_predict_list)\n",
    "        if y_pred[0]>4:\n",
    "            y_pred[0]=4.0\n",
    "        formatted_num = '{0:.2f}'.format(y_pred[0])\n",
    "        \n",
    "        return render_template('index.html', prediction_text=\"Your final CGPA is predicted to be {} \".format(formatted_num))    "
   ]
  },
  {
   "cell_type": "code",
   "execution_count": 5,
   "id": "27c020f0",
   "metadata": {},
   "outputs": [],
   "source": [
    "@app.route('/predict_2',methods=['GET', 'POST'])\n",
    "def predict_2():\n",
    "    if request.method == \"POST\":\n",
    "        model=pickle.load(open('model2.pkl','rb'))   \n",
    "        to_predict_list = [int(x) for x in request.form.values()]\n",
    "        to_predict_list = [np.array(to_predict_list)]\n",
    "        y_pred = model.predict(to_predict_list)\n",
    "        if y_pred[0]>4:\n",
    "            y_pred[0]=4.0\n",
    "        formatted_num = '{0:.2f}'.format(y_pred[0])\n",
    "        return render_template('index.html', prediction_text=\"Your final CGPA is predicted to be {} \".format(formatted_num))\n",
    "    "
   ]
  },
  {
   "cell_type": "code",
   "execution_count": 6,
   "id": "07663e67",
   "metadata": {},
   "outputs": [],
   "source": [
    "@app.route('/predict_3',methods=['GET', 'POST'])\n",
    "def predict_3():\n",
    "    if request.method == \"POST\":\n",
    "        model=pickle.load(open('model3.pkl','rb'))\n",
    "        to_predict_list = [int(x) for x in request.form.values()]\n",
    "       \n",
    "        to_predict_list = [np.array(to_predict_list)]\n",
    "        \n",
    "        y_pred = model.predict(to_predict_list)\n",
    "        if y_pred[0]>4:\n",
    "            y_pred[0]=4.0\n",
    "        formatted_num = '{0:.2f}'.format(y_pred[0])\n",
    "        return render_template('index.html', prediction_text=\"Your final CGPA is predicted to be {}  \".format(formatted_num))\n",
    "    "
   ]
  },
  {
   "cell_type": "code",
   "execution_count": 7,
   "id": "7602861b",
   "metadata": {},
   "outputs": [],
   "source": [
    "@app.route('/predict1',methods=['GET', 'POST'])\n",
    "def predict1():\n",
    "    if request.method == \"POST\":\n",
    "        model=pickle.load(open('model_1.pkl','rb'))\n",
    "        to_predict_list = [int(x) for x in request.form.values()]\n",
    "       \n",
    "        to_predict_list = [np.array(to_predict_list)]\n",
    "        \n",
    "        y_pred = model.predict(to_predict_list)\n",
    "        if y_pred[0]>4:\n",
    "            y_pred[0]=4.0\n",
    "        formatted_num = '{0:.2f}'.format(y_pred[0])\n",
    "        return render_template('index.html', prediction_text=\"Your final CGPA is predicted to be {} \".format(formatted_num))"
   ]
  },
  {
   "cell_type": "code",
   "execution_count": 8,
   "id": "796bf3df",
   "metadata": {},
   "outputs": [],
   "source": [
    "@app.route('/predict2',methods=['GET', 'POST'])\n",
    "def predict2():\n",
    "    if request.method == \"POST\":\n",
    "        model=pickle.load(open('model_2.pkl','rb'))\n",
    "        to_predict_list = [int(x) for x in request.form.values()]\n",
    "       \n",
    "        to_predict_list = [np.array(to_predict_list)]\n",
    "        \n",
    "        y_pred = model.predict(to_predict_list)\n",
    "        if y_pred[0]>4:\n",
    "            y_pred[0]=4.0\n",
    "        formatted_num = '{0:.2f}'.format(y_pred[0])\n",
    "        return render_template('index.html', prediction_text=\"Your final CGPA is predicted to be {} \".format(formatted_num))"
   ]
  },
  {
   "cell_type": "code",
   "execution_count": 9,
   "id": "03bd3f69",
   "metadata": {},
   "outputs": [],
   "source": [
    "@app.route('/predict3',methods=['GET', 'POST'])\n",
    "def predict3():\n",
    "    if request.method == \"POST\":\n",
    "        model=pickle.load(open('model_3.pkl','rb'))  \n",
    "        to_predict_list = [int(x) for x in request.form.values()]\n",
    "       \n",
    "        to_predict_list = [np.array(to_predict_list)]\n",
    "        \n",
    "        y_pred = model.predict(to_predict_list)\n",
    "        if y_pred[0]>4:\n",
    "            y_pred[0]=4.0\n",
    "        formatted_num = '{0:.2f}'.format(y_pred[0])\n",
    "        return render_template('index.html', prediction_text=\"Your final CGPA is predicted to be {} \".format(formatted_num))"
   ]
  },
  {
   "cell_type": "code",
   "execution_count": null,
   "id": "1b7d50a5",
   "metadata": {},
   "outputs": [
    {
     "name": "stdout",
     "output_type": "stream",
     "text": [
      " * Serving Flask app \"__main__\" (lazy loading)\n",
      " * Environment: production\n",
      "\u001b[31m   WARNING: This is a development server. Do not use it in a production deployment.\u001b[0m\n",
      "\u001b[2m   Use a production WSGI server instead.\u001b[0m\n",
      " * Debug mode: off\n"
     ]
    },
    {
     "name": "stderr",
     "output_type": "stream",
     "text": [
      " * Running on http://127.0.0.1:5000/ (Press CTRL+C to quit)\n",
      "127.0.0.1 - - [25/Jul/2022 08:02:32] \"GET / HTTP/1.1\" 200 -\n",
      "127.0.0.1 - - [25/Jul/2022 08:02:32] \"GET /images/background.jpg HTTP/1.1\" 404 -\n",
      "127.0.0.1 - - [25/Jul/2022 08:03:17] \"POST /predict2 HTTP/1.1\" 200 -\n",
      "127.0.0.1 - - [25/Jul/2022 08:03:17] \"GET /images/background.jpg HTTP/1.1\" 404 -\n",
      "127.0.0.1 - - [25/Jul/2022 08:04:22] \"POST /predict3 HTTP/1.1\" 200 -\n",
      "127.0.0.1 - - [25/Jul/2022 08:04:22] \"GET /images/background.jpg HTTP/1.1\" 404 -\n"
     ]
    }
   ],
   "source": [
    "if(__name__=='__main__'):\n",
    "    app.run(debug=False)"
   ]
  },
  {
   "cell_type": "code",
   "execution_count": null,
   "id": "0953be24",
   "metadata": {},
   "outputs": [],
   "source": []
  }
 ],
 "metadata": {
  "kernelspec": {
   "display_name": "Python 3 (ipykernel)",
   "language": "python",
   "name": "python3"
  },
  "language_info": {
   "codemirror_mode": {
    "name": "ipython",
    "version": 3
   },
   "file_extension": ".py",
   "mimetype": "text/x-python",
   "name": "python",
   "nbconvert_exporter": "python",
   "pygments_lexer": "ipython3",
   "version": "3.9.12"
  }
 },
 "nbformat": 4,
 "nbformat_minor": 5
}
